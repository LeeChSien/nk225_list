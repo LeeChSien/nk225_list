{
  "nbformat": 4,
  "nbformat_minor": 0,
  "metadata": {
    "colab": {
      "name": "op_code_list.ipynb",
      "version": "0.3.2",
      "provenance": [],
      "include_colab_link": true
    },
    "kernelspec": {
      "name": "python3",
      "display_name": "Python 3"
    }
  },
  "cells": [
    {
      "cell_type": "markdown",
      "metadata": {
        "id": "view-in-github",
        "colab_type": "text"
      },
      "source": [
        "<a href=\"https://colab.research.google.com/github/zaq9/nk225_list/blob/master/op_code/op_code_list.ipynb\" target=\"_parent\"><img src=\"https://colab.research.google.com/assets/colab-badge.svg\" alt=\"Open In Colab\"/></a>"
      ]
    },
    {
      "metadata": {
        "id": "8HkayHFO9TOi",
        "colab_type": "code",
        "colab": {}
      },
      "cell_type": "code",
      "source": [
        "import pandas as pd\n",
        "import requests\n",
        "from bs4 import BeautifulSoup\n",
        "\n",
        "sv = 'https://www.jpx.co.jp'\n",
        "\n",
        "\n",
        "def latest_csv_path():\n",
        "\t\"\"\"\n",
        "\t:return: str\n",
        "\t\tJPXサーバ内にある最新の清算値CSVファイルへのPATH\n",
        "\t\"\"\"\n",
        "\treq = requests.get(sv + \"/markets/derivatives/jnet-derivative/index.html\")\n",
        "\tsoup = BeautifulSoup(req.content, 'html.parser')\n",
        "\treturn soup.find(class_=\"component-file\").a.get('href')\n",
        "\n",
        "\n",
        "def csv_to_df(csv_path, max_maturity_day=90):\n",
        "\t\"\"\"\n",
        "\t清算値CSVファイルをDataFrameに変換\n",
        "\tParameters\n",
        "\t----------\n",
        "\tcsv_path : str\n",
        "\tmax_maturity_day :  int , default 90\n",
        "\t\t最大、SQ期日が何日後までのデータを取得するか（規定値９０日後）\n",
        "\tReturns\n",
        "\t-------\n",
        "\tDataFrame\n",
        "\n",
        "\t\"\"\"\n",
        "\n",
        "\tcolName = (\"CODE\", \"NAME\", \"TYPE\", \"MATURITY\", \"STRIKE\",\n",
        "\t           \"PRICE\", \"TPRICE\", \"NK\", \"IV\", \"R\", \"TIME\", \"BASE\")\n",
        "\tdf = pd.read_csv(sv + csv_path, skiprows=3, encoding=\"SHIFT-JIS\", names=colName)\n",
        "\tdf = df.query(\n",
        "\t\t'BASE==\"日経225\"').query(\n",
        "\t\tf'TIME<={max_maturity_day}').dropna()\n",
        "\tdf = df.assign(\n",
        "\t\tPRICE=df.PRICE.astype(int),\n",
        "\t\tSTRIKE=df.STRIKE.astype(int),\n",
        "\t\tlb=df['MATURITY'].astype(str).str[4:] + '/' + df.TYPE.str[0] + \\\n",
        "\t\t   df['STRIKE'].astype(int).astype(str)).set_index(\n",
        "\t\t'lb')[[\"CODE\", \"PRICE\", \"TYPE\", \"STRIKE\", \"MATURITY\", \"IV\"]]\n",
        "\treturn df\n"
      ],
      "execution_count": 0,
      "outputs": []
    },
    {
      "metadata": {
        "id": "5TC2Xwdr9TO3",
        "colab_type": "code",
        "colab": {}
      },
      "cell_type": "code",
      "source": [
        "csv_path = latest_csv_path()\n",
        "df = csv_to_df(csv_path)"
      ],
      "execution_count": 0,
      "outputs": []
    },
    {
      "metadata": {
        "id": "exDtZAzy9TPC",
        "colab_type": "code",
        "colab": {}
      },
      "cell_type": "code",
      "source": [
        "df[['CODE']].to_csv('op_code_list.csv')"
      ],
      "execution_count": 0,
      "outputs": []
    }
  ]
}